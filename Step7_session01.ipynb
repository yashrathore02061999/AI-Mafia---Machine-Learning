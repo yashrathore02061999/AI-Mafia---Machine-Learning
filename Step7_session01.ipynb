{
 "cells": [
  {
   "cell_type": "code",
   "execution_count": 1,
   "id": "87c93c76",
   "metadata": {},
   "outputs": [
    {
     "name": "stdout",
     "output_type": "stream",
     "text": [
      "Hello world\n"
     ]
    }
   ],
   "source": [
    "print('Hello world')"
   ]
  },
  {
   "cell_type": "code",
   "execution_count": 2,
   "id": "d2f34d28",
   "metadata": {},
   "outputs": [
    {
     "name": "stdout",
     "output_type": "stream",
     "text": [
      "/Users/yashrathore/.zshenv:1: command not found: Export\n",
      "Requirement already satisfied: numpy in /Users/yashrathore/anaconda3/lib/python3.11/site-packages (1.24.3)\n"
     ]
    }
   ],
   "source": [
    "!pip3 install numpy"
   ]
  },
  {
   "cell_type": "markdown",
   "id": "439ff703",
   "metadata": {},
   "source": [
    "## we are going to learn numpy now!\n"
   ]
  },
  {
   "cell_type": "markdown",
   "id": "56bf9d59",
   "metadata": {},
   "source": [
    "### this is new headline"
   ]
  },
  {
   "cell_type": "code",
   "execution_count": 3,
   "id": "7e9a1339",
   "metadata": {},
   "outputs": [],
   "source": [
    "import numpy as np"
   ]
  },
  {
   "cell_type": "code",
   "execution_count": 33,
   "id": "4785706c",
   "metadata": {},
   "outputs": [],
   "source": [
    "arr = np.array([1, 2, 3])"
   ]
  },
  {
   "cell_type": "code",
   "execution_count": 34,
   "id": "e403be77",
   "metadata": {},
   "outputs": [
    {
     "data": {
      "text/plain": [
       "numpy.ndarray"
      ]
     },
     "execution_count": 34,
     "metadata": {},
     "output_type": "execute_result"
    }
   ],
   "source": [
    "type(arr)"
   ]
  },
  {
   "cell_type": "code",
   "execution_count": 35,
   "id": "14b1eeb5",
   "metadata": {},
   "outputs": [
    {
     "data": {
      "text/plain": [
       "1"
      ]
     },
     "execution_count": 35,
     "metadata": {},
     "output_type": "execute_result"
    }
   ],
   "source": [
    "arr.ndim"
   ]
  },
  {
   "cell_type": "code",
   "execution_count": 36,
   "id": "9c2ed9d4",
   "metadata": {},
   "outputs": [
    {
     "data": {
      "text/plain": [
       "(3,)"
      ]
     },
     "execution_count": 36,
     "metadata": {},
     "output_type": "execute_result"
    }
   ],
   "source": [
    "arr.shape"
   ]
  },
  {
   "cell_type": "markdown",
   "id": "1fe660e3",
   "metadata": {},
   "source": [
    "# In the above statement k andar arr.shape kiya toh output mein (3, ) jo aya hai waha one d array ko indicate karta hai "
   ]
  },
  {
   "cell_type": "code",
   "execution_count": 39,
   "id": "244b8667",
   "metadata": {},
   "outputs": [
    {
     "data": {
      "text/plain": [
       "3"
      ]
     },
     "execution_count": 39,
     "metadata": {},
     "output_type": "execute_result"
    }
   ],
   "source": [
    "arr.size"
   ]
  },
  {
   "cell_type": "code",
   "execution_count": 40,
   "id": "a8d44066",
   "metadata": {},
   "outputs": [
    {
     "data": {
      "text/plain": [
       "dtype('int64')"
      ]
     },
     "execution_count": 40,
     "metadata": {},
     "output_type": "execute_result"
    }
   ],
   "source": [
    "arr.dtype"
   ]
  },
  {
   "cell_type": "code",
   "execution_count": 41,
   "id": "c808169f",
   "metadata": {},
   "outputs": [
    {
     "name": "stdout",
     "output_type": "stream",
     "text": [
      "array created using passed list:\n",
      " [[1. 2. 3.]\n",
      " [4. 2. 5.]]\n"
     ]
    }
   ],
   "source": [
    "#creating array from the list with type float\n",
    "a=np.array([[1,2,3],[4, 2, 5]], dtype = 'float')\n",
    "print(\"array created using passed list:\\n\",a)"
   ]
  },
  {
   "cell_type": "code",
   "execution_count": 46,
   "id": "0762cbb1",
   "metadata": {},
   "outputs": [],
   "source": [
    "c=np.zeros((3,4))"
   ]
  },
  {
   "cell_type": "code",
   "execution_count": 47,
   "id": "3ead7d19",
   "metadata": {},
   "outputs": [
    {
     "data": {
      "text/plain": [
       "array([[0., 0., 0., 0.],\n",
       "       [0., 0., 0., 0.],\n",
       "       [0., 0., 0., 0.]])"
      ]
     },
     "execution_count": 47,
     "metadata": {},
     "output_type": "execute_result"
    }
   ],
   "source": [
    "c"
   ]
  },
  {
   "cell_type": "code",
   "execution_count": 48,
   "id": "2df12ea2",
   "metadata": {},
   "outputs": [
    {
     "data": {
      "text/plain": [
       "12"
      ]
     },
     "execution_count": 48,
     "metadata": {},
     "output_type": "execute_result"
    }
   ],
   "source": [
    "c.size"
   ]
  },
  {
   "cell_type": "code",
   "execution_count": 49,
   "id": "a5dae523",
   "metadata": {},
   "outputs": [
    {
     "data": {
      "text/plain": [
       "(3, 4)"
      ]
     },
     "execution_count": 49,
     "metadata": {},
     "output_type": "execute_result"
    }
   ],
   "source": [
    "c.shape"
   ]
  },
  {
   "cell_type": "code",
   "execution_count": 50,
   "id": "d6f86a41",
   "metadata": {},
   "outputs": [
    {
     "data": {
      "text/plain": [
       "array([[1., 1., 1., 1., 1.],\n",
       "       [1., 1., 1., 1., 1.],\n",
       "       [1., 1., 1., 1., 1.],\n",
       "       [1., 1., 1., 1., 1.]])"
      ]
     },
     "execution_count": 50,
     "metadata": {},
     "output_type": "execute_result"
    }
   ],
   "source": [
    "np.ones((4,5))"
   ]
  },
  {
   "cell_type": "code",
   "execution_count": 55,
   "id": "a2579990",
   "metadata": {},
   "outputs": [
    {
     "data": {
      "text/plain": [
       "array([[1., 0., 0.],\n",
       "       [0., 1., 0.],\n",
       "       [0., 0., 1.]])"
      ]
     },
     "execution_count": 55,
     "metadata": {},
     "output_type": "execute_result"
    }
   ],
   "source": [
    "np.eye(3)"
   ]
  },
  {
   "cell_type": "markdown",
   "id": "5f22eaf9",
   "metadata": {},
   "source": [
    "eye() identity matrix print karta hai\n"
   ]
  },
  {
   "cell_type": "code",
   "execution_count": 56,
   "id": "86411912",
   "metadata": {},
   "outputs": [],
   "source": [
    "np.arange?"
   ]
  },
  {
   "cell_type": "code",
   "execution_count": 59,
   "id": "3772dc1d",
   "metadata": {},
   "outputs": [
    {
     "name": "stdout",
     "output_type": "stream",
     "text": [
      "print the array from 0 to 30 with in 5 step:  [ 0  5 10 15 20 25]\n"
     ]
    }
   ],
   "source": [
    "c=np.arange(0,30,5)\n",
    "print(\"print the array from 0 to 30 with in 5 step: \",c)"
   ]
  },
  {
   "cell_type": "code",
   "execution_count": 63,
   "id": "b8ac6ce7",
   "metadata": {},
   "outputs": [
    {
     "data": {
      "text/plain": [
       "array([0.        , 0.55555556, 1.11111111, 1.66666667, 2.22222222,\n",
       "       2.77777778, 3.33333333, 3.88888889, 4.44444444, 5.        ])"
      ]
     },
     "execution_count": 63,
     "metadata": {},
     "output_type": "execute_result"
    }
   ],
   "source": [
    "np.linspace(0,5,10)"
   ]
  },
  {
   "cell_type": "code",
   "execution_count": 67,
   "id": "d40874d7",
   "metadata": {},
   "outputs": [
    {
     "name": "stdout",
     "output_type": "stream",
     "text": [
      "print the random array:\n",
      " [[0.15363168 0.34061115]\n",
      " [0.54972899 0.01303611]]\n"
     ]
    }
   ],
   "source": [
    "a=np.random.random((2,2))\n",
    "print(\"print the random array:\\n\",a)"
   ]
  },
  {
   "cell_type": "code",
   "execution_count": 72,
   "id": "3283ddef",
   "metadata": {},
   "outputs": [
    {
     "data": {
      "text/plain": [
       "array([[0.43002925, 0.89415459],\n",
       "       [0.01244774, 0.98754192]])"
      ]
     },
     "execution_count": 72,
     "metadata": {},
     "output_type": "execute_result"
    }
   ],
   "source": [
    "np.random.random((2,2))"
   ]
  },
  {
   "cell_type": "code",
   "execution_count": 73,
   "id": "0bbe6540",
   "metadata": {},
   "outputs": [],
   "source": [
    "#reshapping the array 3*4 into 2*2*3\n",
    "arr=np.array([[1,2,4,6],\n",
    "              [5,7,8,9],\n",
    "              [3,5,7,8]])\n",
    "new_arr=arr.reshape(2,2,3)"
   ]
  },
  {
   "cell_type": "code",
   "execution_count": 74,
   "id": "a65dfd5c",
   "metadata": {},
   "outputs": [
    {
     "data": {
      "text/plain": [
       "array([[[1, 2, 4],\n",
       "        [6, 5, 7]],\n",
       "\n",
       "       [[8, 9, 3],\n",
       "        [5, 7, 8]]])"
      ]
     },
     "execution_count": 74,
     "metadata": {},
     "output_type": "execute_result"
    }
   ],
   "source": [
    "new_arr"
   ]
  },
  {
   "cell_type": "code",
   "execution_count": 75,
   "id": "6b0c14da",
   "metadata": {},
   "outputs": [],
   "source": [
    "#reshapping the array 3*4 into 4*3\n",
    "arr1=np.array([[1,2,4,6],\n",
    "              [5,7,8,9],\n",
    "              [3,5,7,8]])\n",
    "new_arr=arr1.reshape(4,3)"
   ]
  },
  {
   "cell_type": "code",
   "execution_count": 76,
   "id": "5be29ca0",
   "metadata": {},
   "outputs": [
    {
     "data": {
      "text/plain": [
       "array([[1, 2, 4],\n",
       "       [6, 5, 7],\n",
       "       [8, 9, 3],\n",
       "       [5, 7, 8]])"
      ]
     },
     "execution_count": 76,
     "metadata": {},
     "output_type": "execute_result"
    }
   ],
   "source": [
    "new_arr"
   ]
  },
  {
   "cell_type": "code",
   "execution_count": 77,
   "id": "696dec1a",
   "metadata": {},
   "outputs": [
    {
     "ename": "ValueError",
     "evalue": "cannot reshape array of size 12 into shape (3,7)",
     "output_type": "error",
     "traceback": [
      "\u001b[0;31m---------------------------------------------------------------------------\u001b[0m",
      "\u001b[0;31mValueError\u001b[0m                                Traceback (most recent call last)",
      "Cell \u001b[0;32mIn[77], line 5\u001b[0m\n\u001b[1;32m      1\u001b[0m \u001b[38;5;66;03m#reshapping the array 3*4 into 2*2*3\u001b[39;00m\n\u001b[1;32m      2\u001b[0m arr\u001b[38;5;241m=\u001b[39mnp\u001b[38;5;241m.\u001b[39marray([[\u001b[38;5;241m1\u001b[39m,\u001b[38;5;241m2\u001b[39m,\u001b[38;5;241m4\u001b[39m,\u001b[38;5;241m6\u001b[39m],\n\u001b[1;32m      3\u001b[0m               [\u001b[38;5;241m5\u001b[39m,\u001b[38;5;241m7\u001b[39m,\u001b[38;5;241m8\u001b[39m,\u001b[38;5;241m9\u001b[39m],\n\u001b[1;32m      4\u001b[0m               [\u001b[38;5;241m3\u001b[39m,\u001b[38;5;241m5\u001b[39m,\u001b[38;5;241m7\u001b[39m,\u001b[38;5;241m8\u001b[39m]])\n\u001b[0;32m----> 5\u001b[0m new_arr\u001b[38;5;241m=\u001b[39marr\u001b[38;5;241m.\u001b[39mreshape(\u001b[38;5;241m3\u001b[39m,\u001b[38;5;241m7\u001b[39m)\n",
      "\u001b[0;31mValueError\u001b[0m: cannot reshape array of size 12 into shape (3,7)"
     ]
    }
   ],
   "source": [
    "#reshapping the array 3*4 into 2*2*3\n",
    "arr=np.array([[1,2,4,6],\n",
    "              [5,7,8,9],\n",
    "              [3,5,7,8]])\n",
    "new_arr=arr.reshape(3,7)\n",
    "#This statement give me error because total 12 element but we want print 21 elements"
   ]
  },
  {
   "cell_type": "code",
   "execution_count": 90,
   "id": "e0aae5b6",
   "metadata": {},
   "outputs": [],
   "source": [
    "arr=np.array([[1,2,4,6],\n",
    "              [5,7,8,9],\n",
    "              [3,5,7,8],\n",
    "              [2,7,9,5]])"
   ]
  },
  {
   "cell_type": "code",
   "execution_count": 91,
   "id": "466c8b3d",
   "metadata": {},
   "outputs": [
    {
     "data": {
      "text/plain": [
       "array([[5, 7, 8],\n",
       "       [3, 5, 7],\n",
       "       [2, 7, 9]])"
      ]
     },
     "execution_count": 91,
     "metadata": {},
     "output_type": "execute_result"
    }
   ],
   "source": [
    "arr[1:4, 0:3]"
   ]
  },
  {
   "cell_type": "code",
   "execution_count": 92,
   "id": "663cdb1c",
   "metadata": {},
   "outputs": [
    {
     "data": {
      "text/plain": [
       "array([[5, 8],\n",
       "       [3, 7],\n",
       "       [2, 9]])"
      ]
     },
     "execution_count": 92,
     "metadata": {},
     "output_type": "execute_result"
    }
   ],
   "source": [
    "arr[1: , :3:2]"
   ]
  },
  {
   "cell_type": "code",
   "execution_count": 106,
   "id": "4d03c67e",
   "metadata": {},
   "outputs": [],
   "source": [
    "#bhaut important feature broadcasting feature\n",
    "a=np.array([1,2,3,4])"
   ]
  },
  {
   "cell_type": "code",
   "execution_count": 107,
   "id": "59e98e87",
   "metadata": {},
   "outputs": [
    {
     "data": {
      "text/plain": [
       "array([2, 3, 4, 5])"
      ]
     },
     "execution_count": 107,
     "metadata": {},
     "output_type": "execute_result"
    }
   ],
   "source": [
    "a+1\n"
   ]
  },
  {
   "cell_type": "code",
   "execution_count": 108,
   "id": "54d602e4",
   "metadata": {},
   "outputs": [
    {
     "name": "stdout",
     "output_type": "stream",
     "text": [
      "[1 2 3 4]\n"
     ]
    }
   ],
   "source": [
    "print(a)"
   ]
  },
  {
   "cell_type": "code",
   "execution_count": 109,
   "id": "1f340d83",
   "metadata": {},
   "outputs": [
    {
     "data": {
      "text/plain": [
       "array([2, 4, 6, 8])"
      ]
     },
     "execution_count": 109,
     "metadata": {},
     "output_type": "execute_result"
    }
   ],
   "source": [
    "a*2"
   ]
  },
  {
   "cell_type": "code",
   "execution_count": 113,
   "id": "e1b4bb4d",
   "metadata": {},
   "outputs": [
    {
     "name": "stdout",
     "output_type": "stream",
     "text": [
      "Print the array before the transpose:\n",
      " [[1 2 4 6]\n",
      " [5 7 8 9]\n",
      " [3 5 7 8]]\n",
      "Print the array after the transpose:\n",
      " [[1 5 3]\n",
      " [2 7 5]\n",
      " [4 8 7]\n",
      " [6 9 8]]\n"
     ]
    }
   ],
   "source": [
    "#transpose of the array\n",
    "arr=np.array([[1,2,4,6],\n",
    "              [5,7,8,9],\n",
    "              [3,5,7,8]])\n",
    "print(\"Print the array before the transpose:\\n\",arr)\n",
    "print('Print the array after the transpose:\\n',arr.T)"
   ]
  },
  {
   "cell_type": "code",
   "execution_count": 118,
   "id": "78a3c3f5",
   "metadata": {},
   "outputs": [
    {
     "name": "stdout",
     "output_type": "stream",
     "text": [
      "Print the maximum element in the array:\n",
      " 80\n",
      "\n",
      "\n",
      "Print the maximum element in the row at 1:\n",
      " [ 5  7  8 80]\n"
     ]
    }
   ],
   "source": [
    "#find the maximum element in the array\n",
    "arr=np.array([[1,2,4,6],\n",
    "              [5,7,8,9],\n",
    "              [3,5,7,80]])\n",
    "print('Print the maximum element in the array:\\n',arr.max());\n",
    "print(\"\\n\")\n",
    "print('Print the maximum element in the row at 1:\\n',arr.max(axis=0));"
   ]
  },
  {
   "cell_type": "code",
   "execution_count": null,
   "id": "9773f334",
   "metadata": {},
   "outputs": [],
   "source": []
  }
 ],
 "metadata": {
  "kernelspec": {
   "display_name": "Python 3 (ipykernel)",
   "language": "python",
   "name": "python3"
  },
  "language_info": {
   "codemirror_mode": {
    "name": "ipython",
    "version": 3
   },
   "file_extension": ".py",
   "mimetype": "text/x-python",
   "name": "python",
   "nbconvert_exporter": "python",
   "pygments_lexer": "ipython3",
   "version": "3.11.5"
  }
 },
 "nbformat": 4,
 "nbformat_minor": 5
}
